{
 "cells": [
  {
   "attachments": {},
   "cell_type": "markdown",
   "metadata": {},
   "source": [
    " # Data Summary provided by GPT\n",
    " \n",
    " * there are several publicly available datasets that can be used for developing decision support systems in diabetes management. Here are a few examples:\n",
    "\n",
    "    1. OhioT1DM Dataset: The OhioT1DM dataset (https://archive.ics.uci.edu/ml/datasets/OhioT1DM+Dataset) is a public dataset collected from patients with Type 1 Diabetes. It includes continuous glucose monitoring (CGM) data, insulin doses, meal information, physical activity, and physiological features. This dataset is suitable for developing decision support systems for insulin dosing, glucose prediction, and diabetes management.\n",
    "\n",
    "    2. T2D-UCI Dataset: The T2D-UCI dataset (https://archive.ics.uci.edu/dataset/296/diabetes+130+us+hospitals+for+years+1999+2008) contains data from patients with Type 2 Diabetes, collected from 130 hospitals in the United States between 1999 and 2008. It includes demographic information, clinical factors, medications, and 10-year risk of diabetes-related complications. This dataset can be used for developing decision support systems for risk assessment, treatment planning, and predicting outcomes.\n",
    "\n",
    "    3. Pima Indians Diabetes Database: The Pima Indians Diabetes Database (https://www.kaggle.com/uciml/pima-indians-diabetes-database) is a well-known dataset available on Kaggle. It includes data from female Pima Indians, including features such as glucose levels, BMI, age, and diabetes status. This dataset is often used for developing decision support systems for diabetes diagnosis and risk prediction.\n",
    "\n",
    "        * Kaggle EDA Notebook - https://www.kaggle.com/code/shrutimechlearn/step-by-step-diabetes-classification-knn-detailed\n",
    "        * Small data set - only 768 rows \n",
    "        \n",
    "\n",
    "    4. EHR Datasets: Electronic Health Record (EHR) datasets, such as the MIMIC-III dataset (https://mimic.mit.edu/) and the eICU Collaborative Research Database (https://eicu-crd.mit.edu/), contain anonymized patient data collected from intensive care units. While these datasets cover a wide range of medical conditions, they can be used for developing decision support systems for critical care management in diabetes patients.\n",
    "\n",
    "* When working with public datasets, it's important to carefully review the data documentation, understand the limitations, and ensure compliance with any data usage policies. Additionally, it's recommended to combine these datasets with relevant clinical guidelines or expert knowledge to develop robust decision support systems for diabetes management."
   ]
  },
  {
   "attachments": {},
   "cell_type": "markdown",
   "metadata": {},
   "source": [
    "## Data selection \n",
    "I will start with dataset 2, then looking at others. Based on the understanding, we will do further selection or integration. "
   ]
  },
  {
   "attachments": {},
   "cell_type": "markdown",
   "metadata": {},
   "source": [
    "## Attributes of T2D-UCI Dataset \n",
    "\n",
    "* (https://www.hindawi.com/journals/bmri/2014/781670/tab1/)\n",
    "\n",
    "| Feature name | Type | Description and values | % missing |\n",
    "|--------------|------|------------------------|-----------|\n",
    "| Encounter ID | Numeric | Unique identifier of an encounter | 0% |\n",
    "| Patient number | Numeric | Unique identifier of a patient | 0% |\n",
    "| Race | Nominal | Values: Caucasian, Asian, African American, Hispanic, and other | 2% |\n",
    "| Gender | Nominal | Values: male, female, and unknown/invalid | 0% |\n",
    "| Age | Nominal | Grouped in 10-year intervals: 0, 10), 10, 20), …, 90, 100) | 0% |\n",
    "| Weight | Numeric | Weight in pounds. | 97% |\n",
    "| Admission type | Nominal | Integer identifier corresponding to 9 distinct values, for example, emergency, urgent, elective, newborn, and not available | 0% |\n",
    "| Discharge disposition | Nominal | Integer identifier corresponding to 29 distinct values, for example, discharged to home, expired, and not available | 0% |\n",
    "| Admission source | Nominal | Integer identifier corresponding to 21 distinct values, for example, physician referral, emergency room, and transfer from a hospital | 0% |\n",
    "| Time in hospital | Numeric | Integer number of days between admission and discharge | 0% |\n",
    "| Payer code | Nominal | Integer identifier corresponding to 23 distinct values, for example, Blue Cross/Blue Shield, Medicare, and self-pay | 52% |\n",
    "| Medical specialty | Nominal | Integer identifier of a specialty of the admitting physician, corresponding to 84 distinct values, for example, cardiology, internal medicine, family/general practice, and surgeon | 53% |\n",
    "| Number of lab procedures | Numeric | Number of lab tests performed during the encounter | 0% |\n",
    "| Number of procedures | Numeric | Number of procedures (other than lab tests) performed during the encounter | 0% |\n",
    "| Number of medications | Numeric | Number of distinct generic names administered during the encounter | 0% |\n",
    "| Number of outpatient visits | Numeric | Number of outpatient visits of the patient in the year preceding the encounter | 0% |\n",
    "| Number of emergency visits | Numeric | Number of emergency visits of the patient in the year preceding the encounter | 0% |\n",
    "| Number of inpatient visits | Numeric | Number of inpatient visits of the patient in the year preceding the encounter | 0% |\n",
    "| Diagnosis 1 | Nominal | The primary diagnosis (coded as first three digits of ICD9); 848 distinct values | 0% |\n",
    "| Diagnosis 2 | Nominal | Secondary diagnosis (coded as first three digits of ICD9); 923 distinct values | 0% |\n",
    "| Diagnosis 3 | Nominal | Additional secondary diagnosis (coded as first three digits of ICD9); 954 distinct values | 1% |\n",
    "| Number of diagnoses | Numeric | Number of diagnoses entered to the system | 0% |\n",
    "| Glucose serum test result | Nominal | Indicates the range of the result or if the test was not taken. Values: “>200,” “>300,” “normal,” and “none” if not measured | 0% |\n",
    "| A1c test result | Nominal | Indicates the range of the result or if the test was not taken. Values: “>8” if the result was greater than 8%, “>7” if the result was greater than 7% but less than 8%, “normal” if the result was less than 7%, and “none” if not measured. | 0% |\n",
    "| Change of medications | Nominal | Indicates if there was a change in diabetic medications (either dosage or generic name). Values: “change” and “no change” | 0% |\n",
    "| Diabetes medications | Nominal | Indicates if there was any diabetic medication prescribed. Values: “yes” and “no” | 0% |\n",
    "| 24 features for medications | Nominal | For the generic names: metformin, repaglinide, nateglinide, chlorpropamide, glimepiride, acetohexamide, glipizide, glyburide, tolbutamide, pioglitazone, rosiglitazone, acarbose, miglitol, troglitazone, tolazamide, examide, sitagliptin, insulin, glyburide-metformin, glipizide-metformin, glimepiride-pioglitazone, metformin-rosiglitazone, and metformin-pioglitazone, the feature indicates whether the drug was prescribed or there was a change in the dosage. Values: “up” if the dosage was increased during the encounter, “down” if the dosage was decreased, “steady” if the dosage did not change, and “no” if the drug was not prescribed | 0% |\n",
    "| Readmitted | Nominal | Days to inpatient readmission. Values: “<30” if the patient was readmitted in less than 30 days, “>30” if the patient was readmitted in more than 30 days, and “No” for no record of readmission. | 0% |\n"
   ]
  }
 ],
 "metadata": {
  "kernelspec": {
   "display_name": "base",
   "language": "python",
   "name": "python3"
  },
  "language_info": {
   "codemirror_mode": {
    "name": "ipython",
    "version": 3
   },
   "file_extension": ".py",
   "mimetype": "text/x-python",
   "name": "python",
   "nbconvert_exporter": "python",
   "pygments_lexer": "ipython3",
   "version": "3.10.10"
  },
  "orig_nbformat": 4
 },
 "nbformat": 4,
 "nbformat_minor": 2
}
