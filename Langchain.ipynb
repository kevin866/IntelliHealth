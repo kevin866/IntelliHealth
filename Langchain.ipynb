{
 "cells": [
  {
   "cell_type": "code",
   "execution_count": 2,
   "metadata": {},
   "outputs": [],
   "source": [
    "from langchain.indexes import VectorstoreIndexCreator\n",
    "import requests\n",
    "from bs4 import BeautifulSoup\n",
    "from langchain.document_loaders import TextLoader\n",
    "import textwrap"
   ]
  },
  {
   "cell_type": "code",
   "execution_count": 3,
   "metadata": {},
   "outputs": [],
   "source": [
    "\n",
    "#url = \"https://diabetes.org/tools-support/diabetes-prevention/diabetes-myths\"  # Replace with the URL you want to extract text from\n",
    "def print_wrapped_text(text, line_width, answer_file):\n",
    "    wrapped_text = textwrap.fill(text, width=line_width)\n",
    "    # Open the file in append mode\n",
    "    with open(answer_file, 'a') as file:\n",
    "    # Append the string to the file\n",
    "        file.write(\"\\n\"+wrapped_text+\"\\n\"+\"-\"*100)\n",
    "\n",
    "def parse_document(url, category):\n",
    "\n",
    "    # Send a GET request to the URL\n",
    "    response = requests.get(url)\n",
    "    file_name = category + \"_content.txt\"\n",
    "    # Check if the request was successful (status code 200)\n",
    "    if response.status_code == 200:\n",
    "        # Parse the HTML content of the response using BeautifulSoup\n",
    "        soup = BeautifulSoup(response.content, \"html.parser\")\n",
    "\n",
    "        # Extract the text from the parsed HTML\n",
    "        text_content = soup.get_text()\n",
    "        # Save the text content to a file\n",
    "        with open(file_name, \"w\", encoding=\"utf-8\") as file:\n",
    "            file.write(text_content)\n",
    "\n",
    "        print(f\"Text content was saved to {file_name}\")\n",
    "        loader = TextLoader(file_name)\n",
    "        index = VectorstoreIndexCreator().from_loaders([loader])\n",
    "        qs = index.query(\"Please list all the questions I can ask\")\n",
    "        questions = qs.splitlines()\n",
    "        queries = [line.lstrip(\"- \") for line in questions[1:]]\n",
    "        question = \"What questions I can ask based on the content? List each question in one line please.\"\n",
    "        a = index.query(question)\n",
    "        print(a)\n",
    "        questions = a.splitlines()\n",
    "        # Remove empty items from the list\n",
    "        questions = [line.strip() for line in questions if line.strip()]\n",
    "        print(questions)\n",
    "        count = 1\n",
    "        answer_file = category+\"_answer.txt\"\n",
    "        print(f\"Answers were saved to {answer_file}\")\n",
    "        for question in questions:  \n",
    "            print_wrapped_text(f\"Question {str(count)} - {question}\", 100, answer_file)\n",
    "            a = index.query(question)\n",
    "            print_wrapped_text(f\"Answer - {a}\", 100, answer_file)\n",
    "    \n",
    "            count += 1\n",
    "    else:\n",
    "        # Handle the case when the request was not successful\n",
    "        print(\"Error:\", response.status_code)\n",
    "    "
   ]
  },
  {
   "cell_type": "code",
   "execution_count": 4,
   "metadata": {},
   "outputs": [
    {
     "name": "stdout",
     "output_type": "stream",
     "text": [
      "Text content was saved to nutrition_content.txt\n",
      "\n",
      "What are the guidelines for finding an eating pattern that works for me?\n",
      "What information can I find on food labels?\n",
      "What tools can I use to know my risk for diabetes?\n",
      "What lifestyle changes can I make to help manage my diabetes?\n",
      "What are the symptoms of Type 1 and Type 2 diabetes?\n",
      "What are the treatments and care for Type 1 and Type 2 diabetes?\n",
      "What are the risks of diabetes for cardiovascular disease, chronic kidney disease, and stroke?\n",
      "What resources are available for people with diabetes?\n",
      "What is the Diabetes Plate Method?\n",
      "What are the nutrients I should be aware of?\n",
      "What is the Health Equity Now initiative?\n",
      "['What are the guidelines for finding an eating pattern that works for me?', 'What information can I find on food labels?', 'What tools can I use to know my risk for diabetes?', 'What lifestyle changes can I make to help manage my diabetes?', 'What are the symptoms of Type 1 and Type 2 diabetes?', 'What are the treatments and care for Type 1 and Type 2 diabetes?', 'What are the risks of diabetes for cardiovascular disease, chronic kidney disease, and stroke?', 'What resources are available for people with diabetes?', 'What is the Diabetes Plate Method?', 'What are the nutrients I should be aware of?', 'What is the Health Equity Now initiative?']\n",
      "Answers were saved to nutrition_answer.txt\n"
     ]
    }
   ],
   "source": [
    "url = \"https://diabetes.org/healthy-living/recipes-nutrition\"\n",
    "category = \"nutrition\"\n",
    "parse_document(url, category)"
   ]
  }
 ],
 "metadata": {
  "kernelspec": {
   "display_name": "Python 3",
   "language": "python",
   "name": "python3"
  },
  "language_info": {
   "codemirror_mode": {
    "name": "ipython",
    "version": 3
   },
   "file_extension": ".py",
   "mimetype": "text/x-python",
   "name": "python",
   "nbconvert_exporter": "python",
   "pygments_lexer": "ipython3",
   "version": "3.11.3"
  },
  "orig_nbformat": 4
 },
 "nbformat": 4,
 "nbformat_minor": 2
}
