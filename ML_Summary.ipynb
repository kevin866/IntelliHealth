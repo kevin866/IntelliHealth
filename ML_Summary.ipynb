{
 "cells": [
  {
   "attachments": {},
   "cell_type": "markdown",
   "metadata": {},
   "source": [
    "* RapidMiner AutoML - readmitted prediciton"
   ]
  },
  {
   "attachments": {},
   "cell_type": "markdown",
   "metadata": {},
   "source": [
    "| Model                    | Classification Error | Standard Deviation |    Gains | Total Time | Training Time (1,000 Rows) | Scoring Time (1,000 Rows) |\n",
    "|--------------------------|----------------------|--------------------|----------|------------|----------------------------|--------------------------|\n",
    "| Naive Bayes              |                  0.5 |                0.0 |  -4418.0 |    11272.0 |                        2.6 |                    169.1 |\n",
    "| Generalized Linear Model |                  0.4 |                0.0 |   3700.0 |    10503.0 |                        6.2 |                    143.4 |\n",
    "| Fast Large Margin        |                  0.4 |                0.0 |   4698.0 |   266190.0 |                      282.0 |                    134.7 |\n"
   ]
  }
 ],
 "metadata": {
  "language_info": {
   "name": "python"
  },
  "orig_nbformat": 4
 },
 "nbformat": 4,
 "nbformat_minor": 2
}
