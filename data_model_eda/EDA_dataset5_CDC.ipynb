{
 "cells": [
  {
   "cell_type": "code",
   "execution_count": 1,
   "metadata": {},
   "outputs": [
    {
     "name": "stdout",
     "output_type": "stream",
     "text": [
      "Collecting sas7bdat\n",
      "  Downloading sas7bdat-2.2.3.tar.gz (16 kB)\n",
      "  Preparing metadata (setup.py) ... \u001b[?25ldone\n",
      "\u001b[?25hRequirement already satisfied: six>=1.8.0 in /Users/justin/miniconda3/lib/python3.10/site-packages (from sas7bdat) (1.12.0)\n",
      "Building wheels for collected packages: sas7bdat\n",
      "  Building wheel for sas7bdat (setup.py) ... \u001b[?25ldone\n",
      "\u001b[?25h  Created wheel for sas7bdat: filename=sas7bdat-2.2.3-py3-none-any.whl size=16294 sha256=3a6b1eb42eb17e6992086be960949d350316c40706081707f499d3ac080ce219\n",
      "  Stored in directory: /Users/justin/Library/Caches/pip/wheels/d2/ad/aa/badcd17bd07e0df1adfc85e738acc942787648fb7ed4044543\n",
      "Successfully built sas7bdat\n",
      "Installing collected packages: sas7bdat\n",
      "Successfully installed sas7bdat-2.2.3\n"
     ]
    }
   ],
   "source": [
    "! pip install sas7bdat"
   ]
  },
  {
   "cell_type": "code",
   "execution_count": null,
   "metadata": {},
   "outputs": [],
   "source": [
    "import pandas as pd\n",
    "from sas7bdat import SAS7BDAT\n",
    "\n",
    "# Specify the path to your SAS XPORT file\n",
    "xport_file = 'path/to/your/file.xpt'\n",
    "\n",
    "# Open the XPORT file\n",
    "with SAS7BDAT(xport_file) as f:\n",
    "    # Read the XPORT file into a pandas DataFrame\n",
    "    df = f.to_data_frame()\n",
    "\n",
    "# Display the DataFrame\n",
    "print(df)\n"
   ]
  }
 ],
 "metadata": {
  "kernelspec": {
   "display_name": "base",
   "language": "python",
   "name": "python3"
  },
  "language_info": {
   "codemirror_mode": {
    "name": "ipython",
    "version": 3
   },
   "file_extension": ".py",
   "mimetype": "text/x-python",
   "name": "python",
   "nbconvert_exporter": "python",
   "pygments_lexer": "ipython3",
   "version": "3.10.10"
  },
  "orig_nbformat": 4
 },
 "nbformat": 4,
 "nbformat_minor": 2
}
