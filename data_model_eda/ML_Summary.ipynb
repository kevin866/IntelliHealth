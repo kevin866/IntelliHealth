{
 "cells": [
  {
   "attachments": {},
   "cell_type": "markdown",
   "metadata": {},
   "source": [
    "* RapidMiner AutoML - readmitted prediciton"
   ]
  },
  {
   "attachments": {},
   "cell_type": "markdown",
   "metadata": {},
   "source": [
    "| Model                    | Classification Error | Standard Deviation |    Gains | Total Time | Training Time (1,000 Rows) | Scoring Time (1,000 Rows) |\n",
    "|--------------------------|----------------------|--------------------|----------|------------|----------------------------|--------------------------|\n",
    "| Naive Bayes              |                  0.5 |                0.0 |  -4418.0 |    11272.0 |                        2.6 |                    169.1 |\n",
    "| Generalized Linear Model |                  0.4 |                0.0 |   3700.0 |    10503.0 |                        6.2 |                    143.4 |\n",
    "| Fast Large Margin        |                  0.4 |                0.0 |   4698.0 |   266190.0 |                      282.0 |                    134.7 |\n"
   ]
  },
  {
   "attachments": {},
   "cell_type": "markdown",
   "metadata": {},
   "source": [
    "| Model                  | Classification Error | Standard Deviation | Gains   | Total Time   | Training Time (1,000 Rows) | Scoring Time (1,000 Rows) |\n",
    "|------------------------|----------------------|--------------------|---------|--------------|----------------------------|---------------------------|\n",
    "| Naive Bayes            | 0.5                  | 0.0                | -1380.0 | 603954.0     | 0.8                        | 53.7                      |\n",
    "| Generalized Linear Model | 0.4                  | 0.0                | 4484.0  | 654055.0     | 3.2                        | 64.7                      |\n",
    "| Logistic Regression    | 0.4                  | 0.0                | 1990.0  | 523791.0     | 3.2                        | 58.1                      |\n",
    "| Fast Large Margin      | 0.4                  | 0.0                | 3934.0  | 9215442.0    | 42.7                       | 83.1                      |\n",
    "| Deep Learning          | 0.4                  | 0.0                | 4006.0  | 10473276.0   | 155.8                      | 101.6                     |\n",
    "| Decision Tree          | 0.4                  | 0.0                | 1998.0  | 5078898.0    | 2.8                        | 75.1                      |\n",
    "| Random Forest          | 0.4                  | 0.0                | 1920.0  | 10834801.0   | 22.7                       | 819.0                     |\n",
    "| Gradient Boosted Trees | 0.4                  | 0.0                | 1010.0  | 816871.0     | 71.3                       | 133.8                     |\n",
    "| Support Vector Machine | 0.4                  | 0.0                | 692.0   | 3412190.0    | 2702.1                     | 2799.5                    |\n"
   ]
  }
 ],
 "metadata": {
  "language_info": {
   "name": "python"
  },
  "orig_nbformat": 4
 },
 "nbformat": 4,
 "nbformat_minor": 2
}
